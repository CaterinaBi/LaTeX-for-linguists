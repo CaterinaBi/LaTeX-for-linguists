# Why LaTeX?

As of April 2021, I've been doing and teaching linguistics for more than ten years. For more than six, I struggled to get my papers and theses to look right, and spent my time getting into monodirectional arguments with Microsoft Word. Why isn't my image where it ought to be? Why does my table look so wrong? What happened to that blue arrow? 

If you've also already found yourself wondering the same, you're in the right place.

I was also quite jealous of people who produced pieces of work that looked like this:

![Paper written in LaTeX](images/picture1.png)
